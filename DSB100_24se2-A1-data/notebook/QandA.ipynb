{
 "cells": [
  {
   "cell_type": "markdown",
   "id": "677c825a-f54e-4d88-8f2d-2dca4dc595e1",
   "metadata": {
    "editable": true,
    "slideshow": {
     "slide_type": ""
    },
    "tags": []
   },
   "source": [
    "# Q and A: Assessment Template"
   ]
  },
  {
   "cell_type": "markdown",
   "id": "8272a0b7-12f3-4305-ae56-16a466d7ab08",
   "metadata": {},
   "source": [
    "This template demonstrates the Question and Answer heading format used in `Assessment01.ipynb`"
   ]
  },
  {
   "cell_type": "markdown",
   "id": "e86d3f28-475d-47b1-9fab-b2ec2cae814e",
   "metadata": {
    "editable": true,
    "slideshow": {
     "slide_type": ""
    },
    "tags": []
   },
   "source": [
    "# Setting up"
   ]
  },
  {
   "cell_type": "markdown",
   "id": "fa06d9bc-f88d-4549-8895-248dcf2788b8",
   "metadata": {
    "editable": true,
    "slideshow": {
     "slide_type": ""
    },
    "tags": []
   },
   "source": [
    "# Q1: Title "
   ]
  },
  {
   "cell_type": "markdown",
   "id": "6e85738a-ebd0-46f2-bc21-936275109adf",
   "metadata": {},
   "source": [
    "The cell above is a level 1 heading for a question"
   ]
  },
  {
   "cell_type": "markdown",
   "id": "25d7888d-5867-4a2f-966e-fa9f3b30b1ef",
   "metadata": {
    "editable": true,
    "slideshow": {
     "slide_type": ""
    },
    "tags": []
   },
   "source": [
    "## Q1.1 Title (N marks)"
   ]
  },
  {
   "cell_type": "markdown",
   "id": "40aaccbe-b282-4971-999c-bebd96ad8426",
   "metadata": {},
   "source": [
    "The cell above is a level 2 heading for part of a question"
   ]
  },
  {
   "cell_type": "markdown",
   "id": "331db63b-5c33-4121-8a01-87071ce28f9b",
   "metadata": {},
   "source": [
    "### Q1.1.1 Title"
   ]
  },
  {
   "cell_type": "markdown",
   "id": "6220ae56-98c1-4014-b802-b24965d1846f",
   "metadata": {},
   "source": [
    "The cell above is a level 3 heading for sub-part of a question"
   ]
  },
  {
   "cell_type": "markdown",
   "id": "df1b3859-0242-4d9b-bd88-3af76d221f4c",
   "metadata": {},
   "source": [
    "### A1.1.1"
   ]
  },
  {
   "cell_type": "markdown",
   "id": "f94a3404-22a8-4f89-b912-01dcc4bc4c2a",
   "metadata": {},
   "source": [
    "The cell above is a level 3 heading for sub-part of an answer.\n",
    "\n",
    "Every question sub-part should have a corresponding answer sub-part, with no intervening level 3 question or answer headings."
   ]
  },
  {
   "cell_type": "markdown",
   "id": "a33c9951-2581-4502-806a-a04c67f1f8f0",
   "metadata": {},
   "source": [
    "### Q1.1.2"
   ]
  },
  {
   "cell_type": "markdown",
   "id": "7a710e2f-874a-41e0-9575-6feee28af688",
   "metadata": {},
   "source": [
    "Lorem ipsum dolor sit amet, consectetur adipiscing elit. Nam hendrerit nulla eget tortor condimentum, quis imperdiet nulla rutrum. Etiam libero enim, tempus vel faucibus nec, mattis at tortor. Fusce sapien turpis, malesuada nec nulla nec, laoreet rutrum nisi. Duis id posuere velit. Morbi vitae malesuada nisi. Duis nec varius turpis, ut suscipit ante. Aliquam auctor, mauris sit amet sagittis commodo, libero sapien feugiat velit, in lobortis sapien nunc eu dolor."
   ]
  },
  {
   "cell_type": "markdown",
   "id": "6b7cccc1-7d20-496c-bd36-fde6926e6dee",
   "metadata": {},
   "source": [
    "### A1.1.2"
   ]
  },
  {
   "cell_type": "markdown",
   "id": "c0bfb3f9-eee9-45e9-b840-6104c80cbe48",
   "metadata": {},
   "source": [
    "Lorem ipsum dolor sit amet, consectetur adipiscing elit. Nam hendrerit nulla eget tortor condimentum, quis imperdiet nulla rutrum. Etiam libero enim, tempus vel faucibus nec, mattis at tortor. Fusce sapien turpis, malesuada nec nulla nec, laoreet rutrum nisi. Duis id posuere velit. Morbi vitae malesuada nisi. Duis nec varius turpis, ut suscipit ante. Aliquam auctor, mauris sit amet sagittis commodo, libero sapien feugiat velit, in lobortis sapien nunc eu dolor."
   ]
  },
  {
   "cell_type": "markdown",
   "id": "ac457a1a-5aa1-41ea-af4d-38eb744abbcf",
   "metadata": {
    "editable": true,
    "slideshow": {
     "slide_type": ""
    },
    "tags": []
   },
   "source": [
    "## Q1.2 Title (N marks)"
   ]
  },
  {
   "cell_type": "markdown",
   "id": "81c77718-388f-4df1-b6a6-7b9939712374",
   "metadata": {},
   "source": [
    "Lorem ipsum dolor sit amet, consectetur adipiscing elit. Nam hendrerit nulla eget tortor condimentum, quis imperdiet nulla rutrum. Etiam libero enim, tempus vel faucibus nec, mattis at tortor. Fusce sapien turpis, malesuada nec nulla nec, laoreet rutrum nisi. Duis id posuere velit. Morbi vitae malesuada nisi. Duis nec varius turpis, ut suscipit ante. Aliquam auctor, mauris sit amet sagittis commodo, libero sapien feugiat velit, in lobortis sapien nunc eu dolor."
   ]
  },
  {
   "cell_type": "markdown",
   "id": "1ec41168-1d56-43d8-a8af-92cf675d0a91",
   "metadata": {
    "editable": true,
    "slideshow": {
     "slide_type": ""
    },
    "tags": []
   },
   "source": [
    "### Q1.2.1"
   ]
  },
  {
   "cell_type": "markdown",
   "id": "1edd2e51-c873-4d83-86ff-82cd22e4ed0b",
   "metadata": {
    "editable": true,
    "slideshow": {
     "slide_type": ""
    },
    "tags": []
   },
   "source": [
    "### Q1.2.1"
   ]
  },
  {
   "cell_type": "markdown",
   "id": "f740e112-2281-4fe8-a25d-df82152209f0",
   "metadata": {},
   "source": [
    "Oops... two questions in a row."
   ]
  },
  {
   "cell_type": "markdown",
   "id": "031afa17-829f-434c-b68e-70f406770190",
   "metadata": {},
   "source": [
    "### A1.2.1"
   ]
  },
  {
   "cell_type": "markdown",
   "id": "dfdcad0e-3f23-4313-94ae-a9cfb821b690",
   "metadata": {},
   "source": [
    "Lorem ipsum dolor sit amet, consectetur adipiscing elit. Nam hendrerit nulla eget tortor condimentum, quis imperdiet nulla rutrum. Etiam libero enim, tempus vel faucibus nec, mattis at tortor. Fusce sapien turpis, malesuada nec nulla nec, laoreet rutrum nisi. Duis id posuere velit. Morbi vitae malesuada nisi. Duis nec varius turpis, ut suscipit ante. Aliquam auctor, mauris sit amet sagittis commodo, libero sapien feugiat velit, in lobortis sapien nunc eu dolor."
   ]
  },
  {
   "cell_type": "markdown",
   "id": "283f428b-51ab-42fb-9331-d38cb2af2eb1",
   "metadata": {},
   "source": [
    "### Q1.2.2"
   ]
  },
  {
   "cell_type": "markdown",
   "id": "b70ade70-4279-4dee-956c-42c837bc771e",
   "metadata": {},
   "source": [
    "Lorem ipsum dolor sit amet, consectetur adipiscing elit. Nam hendrerit nulla eget tortor condimentum, quis imperdiet nulla rutrum. Etiam libero enim, tempus vel faucibus nec, mattis at tortor. Fusce sapien turpis, malesuada nec nulla nec, laoreet rutrum nisi. Duis id posuere velit. Morbi vitae malesuada nisi. Duis nec varius turpis, ut suscipit ante. Aliquam auctor, mauris sit amet sagittis commodo, libero sapien feugiat velit, in lobortis sapien nunc eu dolor."
   ]
  },
  {
   "cell_type": "markdown",
   "id": "9b07cbbd-6576-4a9a-a923-34a86ba7a799",
   "metadata": {},
   "source": [
    "# Q2 Next question"
   ]
  },
  {
   "cell_type": "markdown",
   "id": "0b0e15c9-1590-4d15-aef4-3ef6f69f12bc",
   "metadata": {},
   "source": [
    "Here's an answer instead"
   ]
  },
  {
   "cell_type": "markdown",
   "id": "5925bc1b-5db9-4fdc-9adc-7cc2a132ec41",
   "metadata": {},
   "source": [
    "### A2.1.1"
   ]
  },
  {
   "cell_type": "markdown",
   "id": "01443f29-8d10-4eea-bd0f-66412dd5b09e",
   "metadata": {},
   "source": [
    "Answer before question!"
   ]
  },
  {
   "cell_type": "markdown",
   "id": "2f004842-ef74-4c4e-a311-4c1410d338ae",
   "metadata": {},
   "source": [
    "### Q2.1.1"
   ]
  }
 ],
 "metadata": {
  "kernelspec": {
   "display_name": "Bash",
   "language": "bash",
   "name": "bash"
  },
  "language_info": {
   "codemirror_mode": "shell",
   "file_extension": ".sh",
   "mimetype": "text/x-sh",
   "name": "bash"
  }
 },
 "nbformat": 4,
 "nbformat_minor": 5
}
